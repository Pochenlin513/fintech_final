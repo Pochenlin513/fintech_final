{
 "cells": [
  {
   "cell_type": "code",
   "execution_count": 12,
   "metadata": {},
   "outputs": [],
   "source": [
    "import numpy as np\n",
    "import pandas as pd\n",
    "import torch\n",
    "import torch.nn as nn\n",
    "from torchvision import transforms, datasets\n",
    "from torch.utils.data import Dataset, DataLoader\n",
    "from sklearn.svm import SVC\n",
    "from sklearn.ensemble import ExtraTreesClassifier, RandomForestClassifier\n",
    "from sklearn.preprocessing import StandardScaler, OneHotEncoder\n",
    "from sklearn.model_selection import train_test_split, StratifiedKFold\n",
    "from sklearn.metrics import balanced_accuracy_score, accuracy_score, f1_score, recall_score, confusion_matrix, matthews_corrcoef\n",
    "from sklearn.feature_selection import RFE\n",
    "from sklearn.decomposition import PCA\n",
    "import xgboost as xgb\n",
    "from utils import score\n",
    "import pickle"
   ]
  },
  {
   "cell_type": "code",
   "execution_count": 13,
   "metadata": {},
   "outputs": [],
   "source": [
    "label = pd.read_csv('E:/Datasets/Fintech/TrainingDataset_first/train_y_answer.csv')\n",
    "custinfo = pd.read_csv('E:/Datasets/Fintech/TrainingDataset_first/public_train_x_custinfo_full_hashed.csv')\n",
    "ds = pd.read_csv(f\"E:/Datasets/Fintech/AggregatedData/timeSeriesStats.csv\")\n",
    "custs = custinfo.cust_id.unique()"
   ]
  },
  {
   "cell_type": "code",
   "execution_count": 14,
   "metadata": {},
   "outputs": [],
   "source": [
    "train_ds = ds[ds.alert_key.isin(label.alert_key)]\n",
    "pub_ds = ds[~ds.alert_key.isin(label.alert_key)]"
   ]
  },
  {
   "attachments": {},
   "cell_type": "markdown",
   "metadata": {},
   "source": [
    "Add label"
   ]
  },
  {
   "cell_type": "code",
   "execution_count": 15,
   "metadata": {},
   "outputs": [
    {
     "name": "stderr",
     "output_type": "stream",
     "text": [
      "c:\\Users\\PoChen\\anaconda3\\envs\\fintech\\lib\\site-packages\\ipykernel_launcher.py:6: SettingWithCopyWarning: \n",
      "A value is trying to be set on a copy of a slice from a DataFrame.\n",
      "Try using .loc[row_indexer,col_indexer] = value instead\n",
      "\n",
      "See the caveats in the documentation: https://pandas.pydata.org/pandas-docs/stable/user_guide/indexing.html#returning-a-view-versus-a-copy\n",
      "  \n"
     ]
    }
   ],
   "source": [
    "sar_flags = []\n",
    "for i in range(len(train_ds)):\n",
    "    ak = train_ds.iloc[i]['alert_key']\n",
    "    sar_flag = label[label.alert_key==ak].sar_flag.item()\n",
    "    sar_flags.append(sar_flag)\n",
    "train_ds['sar_flag'] = sar_flags"
   ]
  },
  {
   "cell_type": "code",
   "execution_count": 16,
   "metadata": {},
   "outputs": [],
   "source": [
    "X = train_ds.iloc[:,:-2].values\n",
    "y = train_ds.iloc[:,-1].values"
   ]
  },
  {
   "cell_type": "code",
   "execution_count": 17,
   "metadata": {},
   "outputs": [
    {
     "data": {
      "text/plain": [
       "PCA()"
      ]
     },
     "execution_count": 17,
     "metadata": {},
     "output_type": "execute_result"
    }
   ],
   "source": [
    "pca = PCA()\n",
    "sc = StandardScaler()\n",
    "sc.fit(X)\n",
    "X_std = sc.transform(X)\n",
    "pca.fit(X_std)"
   ]
  },
  {
   "attachments": {},
   "cell_type": "markdown",
   "metadata": {},
   "source": [
    "RFE Feature selection"
   ]
  },
  {
   "cell_type": "code",
   "execution_count": 18,
   "metadata": {},
   "outputs": [],
   "source": [
    "skf = StratifiedKFold(n_splits=5)\n",
    "feat_freq = np.zeros(train_ds.iloc[:,:-2].values.shape[1])\n",
    "X = train_ds.iloc[:,:-2].values\n",
    "y = train_ds.iloc[:,-1].values\n",
    "for idx, (train_idx, val_idx) in enumerate(skf.split(X,y)):\n",
    "    train_ds_cv = train_ds.iloc[train_idx,:]\n",
    "    val_ds_cv = train_ds.iloc[val_idx,:]\n",
    "    X_train = train_ds_cv.iloc[:,:-2].values\n",
    "    X_test = val_ds_cv.iloc[:,:-2].values\n",
    "    y_train = train_ds_cv.iloc[:,-1].values\n",
    "    y_test = val_ds_cv.iloc[:,-1].values\n",
    "    \n",
    "    #'''\n",
    "    sc = StandardScaler()\n",
    "    sc.fit(X_train)\n",
    "    X_train = sc.transform(X_train)\n",
    "    X_test = sc.transform(X_test)\n",
    "    #'''\n",
    "\n",
    "    for i in range(5):\n",
    "        estimator = ExtraTreesClassifier()\n",
    "        selector = RFE(estimator=estimator, step=10, n_features_to_select=100)\n",
    "        selector.fit(X_train, y_train)\n",
    "        feat_freq = feat_freq + (0+selector.support_)\n",
    "top_feats = np.argsort(feat_freq)[-100:]"
   ]
  },
  {
   "cell_type": "code",
   "execution_count": 19,
   "metadata": {},
   "outputs": [],
   "source": [
    "with open('./tsStats_result/top_feats', 'wb') as f:\n",
    "    pickle.dump(top_feats, f)\n",
    "\n",
    "with open('./tsStats_result/top_feats', 'rb') as f:\n",
    "    top_feats = pickle.load(f)"
   ]
  },
  {
   "cell_type": "code",
   "execution_count": 20,
   "metadata": {},
   "outputs": [
    {
     "name": "stdout",
     "output_type": "stream",
     "text": [
      "(17528, 30)\n",
      "(4382, 30)\n",
      "Fold-1, score: (0.012605042016806723, 45, 3569)\n",
      "Fold-2, score: (0.012077294685990338, 45, 3725)\n",
      "Fold-3, score: (0.01322219028456453, 46, 3478)\n",
      "Fold-4, score: (0.010856738258201559, 46, 4236)\n",
      "Fold-5, score: (0.013513513513513514, 46, 3403)\n"
     ]
    }
   ],
   "source": [
    "skf = StratifiedKFold(n_splits=5)\n",
    "\n",
    "y_true = []\n",
    "y_pred = []\n",
    "fold_result = []\n",
    "for idx, (train_idx, val_idx) in enumerate(skf.split(X,y)):\n",
    "    train_ds_cv = train_ds.iloc[train_idx,:]\n",
    "    val_ds_cv = train_ds.iloc[val_idx,:]\n",
    "    X_train = train_ds_cv.iloc[:,:-2].values\n",
    "    X_val = val_ds_cv.iloc[:,:-2].values\n",
    "    y_train = train_ds_cv.iloc[:,-1].values\n",
    "    y_val = val_ds_cv.iloc[:,-1].values\n",
    "    ak_train = train_ds_cv.iloc[:,-2:]\n",
    "    ak_val = val_ds_cv.iloc[:,-2:]\n",
    "    \n",
    "    #'''\n",
    "    sc = StandardScaler()\n",
    "    sc.fit(X)\n",
    "    X_train = sc.transform(X_train)\n",
    "    X_val = sc.transform(X_val)\n",
    "    #'''\n",
    "\n",
    "    # X_train = X_train[:,top_feats]\n",
    "    # X_val = X_val[:,top_feats]\n",
    "    pca = PCA(n_components=30)\n",
    "    pca.fit(X_std)\n",
    "    X_train = pca.transform(X_train)\n",
    "    X_val = pca.transform(X_val)\n",
    "     \n",
    "    if idx==0:\n",
    "        print(X_train.shape)\n",
    "        print(X_val.shape)\n",
    "    \n",
    "    #clf = xgb.XGBClassifier(max_depth=10, sample_weight=99, verbosity=0)\n",
    "    #clf = SVC(C=1e+2, class_weight='balanced', kernel='rbf', probability=True)\n",
    "    clf = RandomForestClassifier(class_weight='balanced')\n",
    "    clf.fit(X_train, y_train)\n",
    "    y_prob = clf.predict_proba(X_val)\n",
    "    y_pred = ak_val.iloc[:,0:1] # alert_key\n",
    "    y_pred['prob'] = y_prob[:,1]\n",
    "    print(f\"Fold-{idx+1}, score: {score(ak_val, y_pred)}\")\n",
    "\n"
   ]
  },
  {
   "cell_type": "code",
   "execution_count": 11,
   "metadata": {},
   "outputs": [
    {
     "data": {
      "text/plain": [
       "(17528, 100)"
      ]
     },
     "execution_count": 11,
     "metadata": {},
     "output_type": "execute_result"
    }
   ],
   "source": [
    "X_train.shape"
   ]
  },
  {
   "attachments": {},
   "cell_type": "markdown",
   "metadata": {},
   "source": [
    "### Upload"
   ]
  },
  {
   "cell_type": "code",
   "execution_count": 44,
   "metadata": {},
   "outputs": [
    {
     "name": "stderr",
     "output_type": "stream",
     "text": [
      "c:\\Users\\PoChen\\anaconda3\\envs\\tiles\\lib\\site-packages\\ipykernel_launcher.py:19: SettingWithCopyWarning: \n",
      "A value is trying to be set on a copy of a slice from a DataFrame.\n",
      "Try using .loc[row_indexer,col_indexer] = value instead\n",
      "\n",
      "See the caveats in the documentation: https://pandas.pydata.org/pandas-docs/stable/user_guide/indexing.html#returning-a-view-versus-a-copy\n"
     ]
    }
   ],
   "source": [
    "X_train = train_ds.iloc[:,:-2].values\n",
    "y_train = train_ds.iloc[:,-1].values\n",
    "X_test = pub_ds.iloc[:,:-1].values\n",
    "y_test = pub_ds.iloc[:,-1].values\n",
    "ak_test = pub_ds.iloc[:,-1:]\n",
    "\n",
    "sc = StandardScaler()\n",
    "sc.fit(X_train)\n",
    "X_train = sc.transform(X_train)\n",
    "X_test = sc.transform(X_test)\n",
    "\n",
    "X_train = X_train[:,top_feats]\n",
    "X_test = X_test[:,top_feats]\n",
    "\n",
    "clf = SVC(C=1e+0, class_weight='balanced', kernel='rbf', probability=True)\n",
    "clf.fit(X_train, y_train)\n",
    "y_prob = clf.predict_proba(X_test)\n",
    "y_pred = ak_test.iloc[:,0:1] # alert_key\n",
    "y_pred['prob'] = y_prob[:,1]"
   ]
  },
  {
   "cell_type": "code",
   "execution_count": 45,
   "metadata": {},
   "outputs": [
    {
     "data": {
      "text/html": [
       "<div>\n",
       "<style scoped>\n",
       "    .dataframe tbody tr th:only-of-type {\n",
       "        vertical-align: middle;\n",
       "    }\n",
       "\n",
       "    .dataframe tbody tr th {\n",
       "        vertical-align: top;\n",
       "    }\n",
       "\n",
       "    .dataframe thead th {\n",
       "        text-align: right;\n",
       "    }\n",
       "</style>\n",
       "<table border=\"1\" class=\"dataframe\">\n",
       "  <thead>\n",
       "    <tr style=\"text-align: right;\">\n",
       "      <th></th>\n",
       "      <th>alert_key</th>\n",
       "      <th>prob</th>\n",
       "    </tr>\n",
       "  </thead>\n",
       "  <tbody>\n",
       "    <tr>\n",
       "      <th>9</th>\n",
       "      <td>352249.0</td>\n",
       "      <td>0.004724</td>\n",
       "    </tr>\n",
       "    <tr>\n",
       "      <th>10</th>\n",
       "      <td>356565.0</td>\n",
       "      <td>0.004971</td>\n",
       "    </tr>\n",
       "    <tr>\n",
       "      <th>11</th>\n",
       "      <td>357209.0</td>\n",
       "      <td>0.004791</td>\n",
       "    </tr>\n",
       "    <tr>\n",
       "      <th>12</th>\n",
       "      <td>358001.0</td>\n",
       "      <td>0.005006</td>\n",
       "    </tr>\n",
       "    <tr>\n",
       "      <th>13</th>\n",
       "      <td>359220.0</td>\n",
       "      <td>0.005022</td>\n",
       "    </tr>\n",
       "    <tr>\n",
       "      <th>...</th>\n",
       "      <td>...</td>\n",
       "      <td>...</td>\n",
       "    </tr>\n",
       "    <tr>\n",
       "      <th>7136</th>\n",
       "      <td>364977.0</td>\n",
       "      <td>0.005173</td>\n",
       "    </tr>\n",
       "    <tr>\n",
       "      <th>7137</th>\n",
       "      <td>364978.0</td>\n",
       "      <td>0.026288</td>\n",
       "    </tr>\n",
       "    <tr>\n",
       "      <th>7139</th>\n",
       "      <td>364983.0</td>\n",
       "      <td>0.007697</td>\n",
       "    </tr>\n",
       "    <tr>\n",
       "      <th>7140</th>\n",
       "      <td>364986.0</td>\n",
       "      <td>0.025867</td>\n",
       "    </tr>\n",
       "    <tr>\n",
       "      <th>7153</th>\n",
       "      <td>364993.0</td>\n",
       "      <td>0.005393</td>\n",
       "    </tr>\n",
       "  </tbody>\n",
       "</table>\n",
       "<p>1825 rows × 2 columns</p>\n",
       "</div>"
      ],
      "text/plain": [
       "      alert_key      prob\n",
       "9      352249.0  0.004724\n",
       "10     356565.0  0.004971\n",
       "11     357209.0  0.004791\n",
       "12     358001.0  0.005006\n",
       "13     359220.0  0.005022\n",
       "...         ...       ...\n",
       "7136   364977.0  0.005173\n",
       "7137   364978.0  0.026288\n",
       "7139   364983.0  0.007697\n",
       "7140   364986.0  0.025867\n",
       "7153   364993.0  0.005393\n",
       "\n",
       "[1825 rows x 2 columns]"
      ]
     },
     "execution_count": 45,
     "metadata": {},
     "output_type": "execute_result"
    }
   ],
   "source": [
    "y_pred"
   ]
  },
  {
   "cell_type": "code",
   "execution_count": 19,
   "metadata": {},
   "outputs": [],
   "source": [
    "output = pd.read_csv('./sample.csv')\n",
    "output.loc[:,'probability'] = 0"
   ]
  },
  {
   "cell_type": "code",
   "execution_count": 21,
   "metadata": {},
   "outputs": [],
   "source": [
    "for ak, prob in y_pred.values:\n",
    "    idx = output[output.alert_key==ak].index\n",
    "    output.loc[idx, 'probability'] = prob"
   ]
  },
  {
   "cell_type": "code",
   "execution_count": 23,
   "metadata": {},
   "outputs": [],
   "source": [
    "output.to_csv('./upload/tsStatsV1.csv', index=False)"
   ]
  },
  {
   "cell_type": "code",
   "execution_count": 36,
   "metadata": {},
   "outputs": [
    {
     "data": {
      "text/html": [
       "<div>\n",
       "<style scoped>\n",
       "    .dataframe tbody tr th:only-of-type {\n",
       "        vertical-align: middle;\n",
       "    }\n",
       "\n",
       "    .dataframe tbody tr th {\n",
       "        vertical-align: top;\n",
       "    }\n",
       "\n",
       "    .dataframe thead th {\n",
       "        text-align: right;\n",
       "    }\n",
       "</style>\n",
       "<table border=\"1\" class=\"dataframe\">\n",
       "  <thead>\n",
       "    <tr style=\"text-align: right;\">\n",
       "      <th></th>\n",
       "      <th>alert_key</th>\n",
       "      <th>probability</th>\n",
       "    </tr>\n",
       "  </thead>\n",
       "  <tbody>\n",
       "    <tr>\n",
       "      <th>0</th>\n",
       "      <td>357307</td>\n",
       "      <td>0.000017</td>\n",
       "    </tr>\n",
       "    <tr>\n",
       "      <th>1</th>\n",
       "      <td>376329</td>\n",
       "      <td>0.000324</td>\n",
       "    </tr>\n",
       "    <tr>\n",
       "      <th>2</th>\n",
       "      <td>373644</td>\n",
       "      <td>0.000372</td>\n",
       "    </tr>\n",
       "    <tr>\n",
       "      <th>3</th>\n",
       "      <td>357668</td>\n",
       "      <td>0.000489</td>\n",
       "    </tr>\n",
       "    <tr>\n",
       "      <th>4</th>\n",
       "      <td>354443</td>\n",
       "      <td>0.000526</td>\n",
       "    </tr>\n",
       "    <tr>\n",
       "      <th>...</th>\n",
       "      <td>...</td>\n",
       "      <td>...</td>\n",
       "    </tr>\n",
       "    <tr>\n",
       "      <th>3845</th>\n",
       "      <td>364485</td>\n",
       "      <td>0.997702</td>\n",
       "    </tr>\n",
       "    <tr>\n",
       "      <th>3846</th>\n",
       "      <td>363155</td>\n",
       "      <td>0.998987</td>\n",
       "    </tr>\n",
       "    <tr>\n",
       "      <th>3847</th>\n",
       "      <td>368710</td>\n",
       "      <td>0.999694</td>\n",
       "    </tr>\n",
       "    <tr>\n",
       "      <th>3848</th>\n",
       "      <td>358067</td>\n",
       "      <td>0.999821</td>\n",
       "    </tr>\n",
       "    <tr>\n",
       "      <th>3849</th>\n",
       "      <td>372119</td>\n",
       "      <td>0.999978</td>\n",
       "    </tr>\n",
       "  </tbody>\n",
       "</table>\n",
       "<p>3850 rows × 2 columns</p>\n",
       "</div>"
      ],
      "text/plain": [
       "      alert_key  probability\n",
       "0        357307     0.000017\n",
       "1        376329     0.000324\n",
       "2        373644     0.000372\n",
       "3        357668     0.000489\n",
       "4        354443     0.000526\n",
       "...         ...          ...\n",
       "3845     364485     0.997702\n",
       "3846     363155     0.998987\n",
       "3847     368710     0.999694\n",
       "3848     358067     0.999821\n",
       "3849     372119     0.999978\n",
       "\n",
       "[3850 rows x 2 columns]"
      ]
     },
     "execution_count": 36,
     "metadata": {},
     "output_type": "execute_result"
    }
   ],
   "source": [
    "pd.read_csv('./sample.csv')"
   ]
  },
  {
   "cell_type": "code",
   "execution_count": null,
   "metadata": {},
   "outputs": [],
   "source": []
  }
 ],
 "metadata": {
  "kernelspec": {
   "display_name": "Python 3.7.13 ('fintech')",
   "language": "python",
   "name": "python3"
  },
  "language_info": {
   "codemirror_mode": {
    "name": "ipython",
    "version": 3
   },
   "file_extension": ".py",
   "mimetype": "text/x-python",
   "name": "python",
   "nbconvert_exporter": "python",
   "pygments_lexer": "ipython3",
   "version": "3.7.13 (default, Mar 28 2022, 08:03:21) [MSC v.1916 64 bit (AMD64)]"
  },
  "orig_nbformat": 4,
  "vscode": {
   "interpreter": {
    "hash": "ae86156d6f7d93291eceaab1685671e020c3dd6969eb076e1ed41d8024233f22"
   }
  }
 },
 "nbformat": 4,
 "nbformat_minor": 2
}
