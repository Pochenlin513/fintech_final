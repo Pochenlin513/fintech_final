{
 "cells": [
  {
   "cell_type": "code",
   "execution_count": 1,
   "metadata": {},
   "outputs": [],
   "source": [
    "import numpy as np\n",
    "import pandas as pd\n",
    "import torch\n",
    "import torch.nn as nn\n",
    "from torchvision import transforms, datasets\n",
    "from torch.utils.data import Dataset, DataLoader\n",
    "from sklearn.svm import SVC\n",
    "from sklearn.ensemble import ExtraTreesClassifier\n",
    "from sklearn.preprocessing import StandardScaler, OneHotEncoder\n",
    "from sklearn.model_selection import train_test_split, StratifiedKFold\n",
    "from sklearn.metrics import balanced_accuracy_score, accuracy_score, f1_score, recall_score, confusion_matrix, matthews_corrcoef\n",
    "from sklearn.feature_selection import RFE\n",
    "from utils import score\n",
    "import pickle"
   ]
  },
  {
   "cell_type": "code",
   "execution_count": 2,
   "metadata": {},
   "outputs": [],
   "source": [
    "label = pd.read_csv('E:/Datasets/Fintech/TrainingDataset_first/train_y_answer.csv')\n",
    "ds = pd.read_csv(f\"E:/Datasets/Fintech/AggregatedData/timeSeriesStats.csv\")\n",
    "train_ds = ds[ds.alert_key.isin(label.alert_key)]\n",
    "pub_ds = ds[~ds.alert_key.isin(label.alert_key)]"
   ]
  },
  {
   "attachments": {},
   "cell_type": "markdown",
   "metadata": {},
   "source": [
    "Add label"
   ]
  },
  {
   "cell_type": "code",
   "execution_count": 3,
   "metadata": {},
   "outputs": [
    {
     "name": "stderr",
     "output_type": "stream",
     "text": [
      "c:\\Users\\PoChen\\anaconda3\\envs\\tiles\\lib\\site-packages\\ipykernel_launcher.py:6: SettingWithCopyWarning: \n",
      "A value is trying to be set on a copy of a slice from a DataFrame.\n",
      "Try using .loc[row_indexer,col_indexer] = value instead\n",
      "\n",
      "See the caveats in the documentation: https://pandas.pydata.org/pandas-docs/stable/user_guide/indexing.html#returning-a-view-versus-a-copy\n",
      "  \n"
     ]
    }
   ],
   "source": [
    "sar_flags = []\n",
    "for i in range(len(train_ds)):\n",
    "    ak = train_ds.iloc[i]['alert_key']\n",
    "    sar_flag = label[label.alert_key==ak].sar_flag.item()\n",
    "    sar_flags.append(sar_flag)\n",
    "train_ds['sar_flag'] = sar_flags"
   ]
  },
  {
   "cell_type": "code",
   "execution_count": 37,
   "metadata": {},
   "outputs": [],
   "source": [
    "skf = StratifiedKFold(n_splits=5)\n",
    "feat_freq = np.zeros(train_ds.iloc[:,:-2].values.shape[1])\n",
    "X = train_ds.iloc[:,:-2].values\n",
    "y = train_ds.iloc[:,-1].values\n",
    "for idx, (train_idx, val_idx) in enumerate(skf.split(X,y)):\n",
    "    train_ds_cv = train_ds.iloc[train_idx,:]\n",
    "    val_ds_cv = train_ds.iloc[val_idx,:]\n",
    "    X_train = train_ds_cv.iloc[:,:-2].values\n",
    "    X_test = val_ds_cv.iloc[:,:-2].values\n",
    "    y_train = train_ds_cv.iloc[:,-1].values\n",
    "    y_test = val_ds_cv.iloc[:,-1].values\n",
    "    \n",
    "    #'''\n",
    "    sc = StandardScaler()\n",
    "    sc.fit(X_train)\n",
    "    X_train = sc.transform(X_train)\n",
    "    X_test = sc.transform(X_test)\n",
    "    #'''\n",
    "\n",
    "    for i in range(5):\n",
    "        estimator = ExtraTreesClassifier()\n",
    "        selector = RFE(estimator=estimator, step=10, n_features_to_select=100)\n",
    "        selector.fit(X_train, y_train)\n",
    "        feat_freq = feat_freq + (0+selector.support_)\n",
    "top_feats = np.argsort(feat_freq)[-100:]"
   ]
  },
  {
   "cell_type": "code",
   "execution_count": 4,
   "metadata": {},
   "outputs": [],
   "source": [
    "# with open('./tsStats_result/top_feats', 'wb') as f:\n",
    "#     pickle.dump(top_feats, f)\n",
    "\n",
    "with open('./tsStats_result/top_feats', 'rb') as f:\n",
    "    top_feats = pickle.load(f)"
   ]
  },
  {
   "cell_type": "code",
   "execution_count": 6,
   "metadata": {},
   "outputs": [
    {
     "name": "stdout",
     "output_type": "stream",
     "text": [
      "(17528, 100)\n",
      "(4382, 100)\n",
      "Fold-1, score: (0.010851217747769471, 45, 4146)\n",
      "Fold-2, score: (0.010578279266572637, 45, 4253)\n",
      "Fold-3, score: (0.010707635009310988, 46, 4295)\n",
      "Fold-4, score: (0.012089356110381078, 46, 3804)\n",
      "Fold-5, score: (0.011417225117895259, 46, 4028)\n"
     ]
    }
   ],
   "source": [
    "skf = StratifiedKFold(n_splits=5)\n",
    "\n",
    "y_true = []\n",
    "y_pred = []\n",
    "fold_result = []\n",
    "\n",
    "X = train_ds.iloc[:,:-2].values\n",
    "y = train_ds.iloc[:,-1].values\n",
    "for idx, (train_idx, val_idx) in enumerate(skf.split(X,y)):\n",
    "    train_ds_cv = train_ds.iloc[train_idx,:]\n",
    "    val_ds_cv = train_ds.iloc[val_idx,:]\n",
    "    X_train = train_ds_cv.iloc[:,:-2].values\n",
    "    X_val = val_ds_cv.iloc[:,:-2].values\n",
    "    y_train = train_ds_cv.iloc[:,-1].values\n",
    "    y_val = val_ds_cv.iloc[:,-1].values\n",
    "    ak_train = train_ds_cv.iloc[:,-2:]\n",
    "    ak_val = val_ds_cv.iloc[:,-2:]\n",
    "    \n",
    "    #'''\n",
    "    sc = StandardScaler()\n",
    "    sc.fit(X_train)\n",
    "    X_train = sc.transform(X_train)\n",
    "    X_val = sc.transform(X_val)\n",
    "    #'''\n",
    "\n",
    "    X_train = X_train[:,top_feats]\n",
    "    X_val = X_val[:,top_feats]\n",
    "     \n",
    "    if idx==0:\n",
    "        print(X_train.shape)\n",
    "        print(X_val.shape)\n",
    "    clf = SVC(C=1e+0, class_weight='balanced', kernel='rbf', probability=True)\n",
    "    clf.fit(X_train, y_train)\n",
    "    y_prob = clf.predict_proba(X_val)\n",
    "    y_pred = ak_val.iloc[:,0:1] # alert_key\n",
    "    y_pred['prob'] = y_prob[:,1]\n",
    "    print(f\"Fold-{idx+1}, score: {score(ak_val, y_pred)}\")\n",
    "\n"
   ]
  }
 ],
 "metadata": {
  "kernelspec": {
   "display_name": "Python 3.6.10 ('tiles')",
   "language": "python",
   "name": "python3"
  },
  "language_info": {
   "codemirror_mode": {
    "name": "ipython",
    "version": 3
   },
   "file_extension": ".py",
   "mimetype": "text/x-python",
   "name": "python",
   "nbconvert_exporter": "python",
   "pygments_lexer": "ipython3",
   "version": "3.6.10"
  },
  "orig_nbformat": 4,
  "vscode": {
   "interpreter": {
    "hash": "3881b9a7b59ca8d89ae5be6dc7b2b57aee5ded30df045d47aea4b4a7815a8ee7"
   }
  }
 },
 "nbformat": 4,
 "nbformat_minor": 2
}
